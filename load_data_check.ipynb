{
 "cells": [
  {
   "cell_type": "code",
   "execution_count": 1,
   "id": "d5127f91",
   "metadata": {},
   "outputs": [
    {
     "name": "stderr",
     "output_type": "stream",
     "text": [
      "2023-02-06 14:48:12.637799: W tensorflow/stream_executor/platform/default/dso_loader.cc:60] Could not load dynamic library 'libcudart.so.11.0'; dlerror: libcudart.so.11.0: cannot open shared object file: No such file or directory\n",
      "2023-02-06 14:48:12.637819: I tensorflow/stream_executor/cuda/cudart_stub.cc:29] Ignore above cudart dlerror if you do not have a GPU set up on your machine.\n",
      "2023-02-06 14:48:16.388160: I tensorflow/compiler/jit/xla_cpu_device.cc:41] Not creating XLA devices, tf_xla_enable_xla_devices not set\n",
      "2023-02-06 14:48:16.388705: I tensorflow/stream_executor/platform/default/dso_loader.cc:49] Successfully opened dynamic library libcuda.so.1\n",
      "2023-02-06 14:48:16.803946: E tensorflow/stream_executor/cuda/cuda_driver.cc:328] failed call to cuInit: CUDA_ERROR_NO_DEVICE: no CUDA-capable device is detected\n",
      "2023-02-06 14:48:16.803970: I tensorflow/stream_executor/cuda/cuda_diagnostics.cc:156] kernel driver does not appear to be running on this host (pol): /proc/driver/nvidia/version does not exist\n"
     ]
    }
   ],
   "source": [
    "import torch\n",
    "import torch.nn as nn\n",
    "from torchtext import data\n",
    "from torchtext.data import Field, RawField\n",
    "import numpy as np\n",
    "import json\n",
    "\n",
    "from signjoey.data import load_data\n",
    "from signjoey.model import build_model\n",
    "from signjoey.helpers import load_config"
   ]
  },
  {
   "cell_type": "code",
   "execution_count": 2,
   "id": "2d14177d",
   "metadata": {},
   "outputs": [],
   "source": [
    "cfg_file = r\"./configs/prob2text/p1/tlp_prob.yaml\"\n",
    "cfg = load_config(cfg_file)"
   ]
  },
  {
   "cell_type": "code",
   "execution_count": 3,
   "id": "5b2ce7b0",
   "metadata": {},
   "outputs": [
    {
     "name": "stdout",
     "output_type": "stream",
     "text": [
      "Using mBART vocabulary? False\n",
      "loading ./data/probs/tlp_output_train.json\n",
      "loading ./data/probs/tlp_output_dev.json\n",
      "loading ./data/probs/tlp_output_test.json\n"
     ]
    }
   ],
   "source": [
    "p_train_data, dev_data, test_data, gls_vocab, txt_vocab = load_data(\n",
    "    data_cfg=cfg[\"data\"],\n",
    "    data_type=\"prob\"\n",
    ")"
   ]
  },
  {
   "cell_type": "raw",
   "id": "74f4c5f5",
   "metadata": {},
   "source": [
    "cfg_file = r\"./configs/sign2text/s7366756/phoenix14t.yaml\"\n",
    "cfg = load_config(cfg_file)\n",
    "\n",
    "train_data, dev_data, test_data, gls_vocab, txt_vocab = load_data(\n",
    "    data_cfg=cfg[\"data\"],\n",
    "    data_type=\"sign\"\n",
    ")"
   ]
  },
  {
   "cell_type": "code",
   "execution_count": 19,
   "id": "1e4ce660",
   "metadata": {},
   "outputs": [],
   "source": [
    "i = iter(p_train_data.sgn)"
   ]
  },
  {
   "cell_type": "code",
   "execution_count": 25,
   "id": "6643f4f0",
   "metadata": {},
   "outputs": [
    {
     "data": {
      "text/plain": [
       "torch.Size([119, 1116])"
      ]
     },
     "execution_count": 25,
     "metadata": {},
     "output_type": "execute_result"
    }
   ],
   "source": [
    "next(i).shape"
   ]
  },
  {
   "cell_type": "code",
   "execution_count": 16,
   "id": "50f1c9a6",
   "metadata": {},
   "outputs": [
    {
     "data": {
      "text/plain": [
       "{'sequence': <torchtext.data.field.RawField at 0x7fa0c44a8580>,\n",
       " 'signer': <torchtext.data.field.RawField at 0x7fa0c44a8790>,\n",
       " 'sgn': <torchtext.data.field.Field at 0x7fa0c5d18f70>,\n",
       " 'gls': <torchtext.data.field.Field at 0x7fa0c5d18af0>,\n",
       " 'txt': <torchtext.data.field.Field at 0x7fa0c5d18fd0>}"
      ]
     },
     "execution_count": 16,
     "metadata": {},
     "output_type": "execute_result"
    }
   ],
   "source": [
    "p_train_data.fields"
   ]
  },
  {
   "cell_type": "code",
   "execution_count": 5,
   "id": "52199628",
   "metadata": {},
   "outputs": [
    {
     "data": {
      "text/plain": [
       "torch.Size([86, 1024])"
      ]
     },
     "execution_count": 5,
     "metadata": {},
     "output_type": "execute_result"
    }
   ],
   "source": [
    "next(train_data.sgn).shape"
   ]
  },
  {
   "cell_type": "code",
   "execution_count": 5,
   "id": "06a466ba",
   "metadata": {},
   "outputs": [
    {
     "name": "stdout",
     "output_type": "stream",
     "text": [
      "Freezing transformer: False\n",
      " --------> Yeah, using super prob model!!!\n",
      "Special tokens:\n",
      "BOS = 2\n",
      "PAD = 1\n",
      "EOS = 3\n"
     ]
    }
   ],
   "source": [
    "model = build_model(\n",
    "    cfg=cfg[\"model\"],\n",
    "    gls_vocab=gls_vocab,\n",
    "    txt_vocab=txt_vocab,\n",
    "    sgn_dim=sum(cfg[\"data\"][\"feature_size\"])\n",
    "    if isinstance(cfg[\"data\"][\"feature_size\"], list)\n",
    "    else cfg[\"data\"][\"feature_size\"],\n",
    "    do_recognition=False,\n",
    "    do_translation=True,\n",
    ")"
   ]
  },
  {
   "cell_type": "markdown",
   "id": "e7121b5d",
   "metadata": {},
   "source": [
    "# Sign data"
   ]
  },
  {
   "cell_type": "code",
   "execution_count": 3,
   "id": "e52500da",
   "metadata": {},
   "outputs": [
    {
     "name": "stdout",
     "output_type": "stream",
     "text": [
      "Using mBART vocabulary? False\n"
     ]
    }
   ],
   "source": [
    "cfg_file = r\"./configs/sign2glosstext/s1/phoenix14t.yaml\"\n",
    "cfg = load_config(cfg_file)\n",
    "\n",
    "train_data, dev_data, test_data, gls_vocab, txt_vocab = load_data(\n",
    "    data_cfg=cfg[\"data\"],\n",
    "    data_type=\"sign\"\n",
    ")"
   ]
  },
  {
   "cell_type": "code",
   "execution_count": 13,
   "id": "7dbc9f4d",
   "metadata": {},
   "outputs": [
    {
     "data": {
      "text/plain": [
       "{'sequence': <torchtext.data.field.RawField at 0x7f300dceffd0>,\n",
       " 'signer': <torchtext.data.field.RawField at 0x7f300dceff70>,\n",
       " 'sgn': <torchtext.data.field.Field at 0x7f300dcefc40>,\n",
       " 'gls': <torchtext.data.field.Field at 0x7f300d7d0a60>,\n",
       " 'txt': <torchtext.data.field.Field at 0x7f300d7d07c0>}"
      ]
     },
     "execution_count": 13,
     "metadata": {},
     "output_type": "execute_result"
    }
   ],
   "source": [
    "dev_data.fields"
   ]
  },
  {
   "cell_type": "code",
   "execution_count": 55,
   "id": "9ae6e593",
   "metadata": {},
   "outputs": [],
   "source": [
    "signs = list(iter(train_data.sgn))"
   ]
  },
  {
   "cell_type": "code",
   "execution_count": 56,
   "id": "8bb515fb",
   "metadata": {},
   "outputs": [
    {
     "data": {
      "text/plain": [
       "32.0"
      ]
     },
     "execution_count": 56,
     "metadata": {},
     "output_type": "execute_result"
    }
   ],
   "source": [
    "np.sqrt(1024)"
   ]
  },
  {
   "cell_type": "code",
   "execution_count": 57,
   "id": "acb8e215",
   "metadata": {},
   "outputs": [
    {
     "name": "stdout",
     "output_type": "stream",
     "text": [
      "torch.Size([86, 1024])\n",
      "torch.Size([126, 1024])\n",
      "torch.Size([168, 1024])\n",
      "torch.Size([185, 1024])\n",
      "torch.Size([71, 1024])\n",
      "torch.Size([105, 1024])\n",
      "torch.Size([168, 1024])\n",
      "torch.Size([139, 1024])\n",
      "torch.Size([87, 1024])\n",
      "torch.Size([48, 1024])\n"
     ]
    }
   ],
   "source": [
    "for s in signs[:10]:\n",
    "    print(s.shape)"
   ]
  },
  {
   "cell_type": "code",
   "execution_count": 58,
   "id": "7bd2088d",
   "metadata": {},
   "outputs": [
    {
     "data": {
      "text/plain": [
       "395"
      ]
     },
     "execution_count": 58,
     "metadata": {},
     "output_type": "execute_result"
    }
   ],
   "source": [
    "max(s.shape[0] for s in signs)"
   ]
  },
  {
   "cell_type": "code",
   "execution_count": 59,
   "id": "0921736a",
   "metadata": {},
   "outputs": [
    {
     "data": {
      "text/plain": [
       "(tensor(1.0000e-08), tensor(79.1501))"
      ]
     },
     "execution_count": 59,
     "metadata": {},
     "output_type": "execute_result"
    }
   ],
   "source": [
    "min([torch.min(s) for s in signs]), max([torch.max(s) for s in signs])"
   ]
  },
  {
   "cell_type": "code",
   "execution_count": 60,
   "id": "af4d4eb4",
   "metadata": {},
   "outputs": [
    {
     "data": {
      "text/plain": [
       "7095"
      ]
     },
     "execution_count": 60,
     "metadata": {},
     "output_type": "execute_result"
    }
   ],
   "source": [
    "len(signs)"
   ]
  },
  {
   "cell_type": "code",
   "execution_count": 61,
   "id": "bdc4e040",
   "metadata": {},
   "outputs": [
    {
     "data": {
      "text/plain": [
       "<matplotlib.image.AxesImage at 0x7f305eb7f8e0>"
      ]
     },
     "execution_count": 61,
     "metadata": {},
     "output_type": "execute_result"
    },
    {
     "data": {
      "image/png": "[encoded data removed]",
      "text/plain": [
       "<Figure size 640x480 with 1 Axes>"
      ]
     },
     "metadata": {},
     "output_type": "display_data"
    }
   ],
   "source": [
    "import matplotlib.pyplot as plt\n",
    "\n",
    "sign = signs[123].numpy().reshape((-1,32,32))[12,:,:]\n",
    "plt.imshow(sign, cmap=\"gray\")"
   ]
  },
  {
   "cell_type": "code",
   "execution_count": null,
   "id": "974d7605",
   "metadata": {},
   "outputs": [],
   "source": []
  }
 ],
 "metadata": {
  "kernelspec": {
   "display_name": "Python 3 (ipykernel)",
   "language": "python",
   "name": "python3"
  },
  "language_info": {
   "codemirror_mode": {
    "name": "ipython",
    "version": 3
   },
   "file_extension": ".py",
   "mimetype": "text/x-python",
   "name": "python",
   "nbconvert_exporter": "python",
   "pygments_lexer": "ipython3",
   "version": "3.8.10"
  },
  "vscode": {
   "interpreter": {
    "hash": "6bd3963dc438480abd9b3a0739872ba54cb8c2644f20e2000ddcf9c8ff5df7b0"
   }
  }
 },
 "nbformat": 4,
 "nbformat_minor": 5
}
